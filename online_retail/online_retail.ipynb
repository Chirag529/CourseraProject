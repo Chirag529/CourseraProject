{
 "cells": [
  {
   "cell_type": "markdown",
   "metadata": {},
   "source": [
    "# Portfolio Project: Online Retail Exploratory Data Analysis with Python"
   ]
  },
  {
   "cell_type": "markdown",
   "metadata": {},
   "source": [
    "## Overview\n",
    "\n",
    "In this project, you will step into the shoes of an entry-level data analyst at an online retail company, helping interpret real-world data to help make a key business decision."
   ]
  },
  {
   "cell_type": "markdown",
   "metadata": {},
   "source": [
    "## Case Study\n",
    "In this project, you will be working with transactional data from an online retail store. The dataset contains information about customer purchases, including product details, quantities, prices, and timestamps. Your task is to explore and analyze this dataset to gain insights into the store's sales trends, customer behavior, and popular products. \n",
    "\n",
    "By conducting exploratory data analysis, you will identify patterns, outliers, and correlations in the data, allowing you to make data-driven decisions and recommendations to optimize the store's operations and improve customer satisfaction. Through visualizations and statistical analysis, you will uncover key trends, such as the busiest sales months, best-selling products, and the store's most valuable customers. Ultimately, this project aims to provide actionable insights that can drive strategic business decisions and enhance the store's overall performance in the competitive online retail market."
   ]
  },
  {
   "cell_type": "markdown",
   "metadata": {},
   "source": [
    "## Project Objectives\n",
    "1. Describe data to answer key questions to uncover insights\n",
    "2. Gain valuable insights that will help improve online retail performance\n",
    "3. Provide analytic insights and data-driven recommendations"
   ]
  },
  {
   "cell_type": "markdown",
   "metadata": {},
   "source": [
    "## Dataset\n",
    "\n",
    "The dataset you will be working with is the \"Online Retail\" dataset. It contains transactional data of an online retail store from 2010 to 2011. The dataset is available as a .xlsx file named `Online Retail.xlsx`. This data file is already included in the Coursera Jupyter Notebook environment, however if you are working off-platform it can also be downloaded [here](https://archive.ics.uci.edu/ml/machine-learning-databases/00352/Online%20Retail.xlsx).\n",
    "\n",
    "The dataset contains the following columns:\n",
    "\n",
    "- InvoiceNo: Invoice number of the transaction\n",
    "- StockCode: Unique code of the product\n",
    "- Description: Description of the product\n",
    "- Quantity: Quantity of the product in the transaction\n",
    "- InvoiceDate: Date and time of the transaction\n",
    "- UnitPrice: Unit price of the product\n",
    "- CustomerID: Unique identifier of the customer\n",
    "- Country: Country where the transaction occurred"
   ]
  },
  {
   "cell_type": "markdown",
   "metadata": {},
   "source": [
    "### Import all required libraries"
   ]
  },
  {
   "cell_type": "code",
   "execution_count": 1,
   "metadata": {},
   "outputs": [],
   "source": [
    "import pandas as pd\n",
    "import matplotlib.pyplot as plt\n",
    "import seaborn as sns\n",
    "import klib as kb\n",
    "import datetime"
   ]
  },
  {
   "cell_type": "markdown",
   "metadata": {},
   "source": [
    "### Read the data from file"
   ]
  },
  {
   "cell_type": "code",
   "execution_count": 2,
   "metadata": {},
   "outputs": [],
   "source": [
    "# Read the data from xlsx file and return the data in a dataframe\n",
    "\n",
    "# Input: filename\n",
    "filename = \"Online Retail.xlsx\"\n",
    "\n",
    "\n",
    "# Output: dataframe\n",
    "def read_xlsx(filename):\n",
    "    df = pd.read_excel(filename)\n",
    "    return df\n",
    "\n",
    "\n",
    "# Read the data from csv file and return the data in a dataframe\n",
    "df = read_xlsx(filename)\n"
   ]
  },
  {
   "cell_type": "markdown",
   "metadata": {},
   "source": [
    "### Data Understanding"
   ]
  },
  {
   "cell_type": "code",
   "execution_count": 3,
   "metadata": {},
   "outputs": [
    {
     "name": "stdout",
     "output_type": "stream",
     "text": [
      " \n",
      " Data Dimensions:\n"
     ]
    },
    {
     "data": {
      "text/plain": [
       "(541909, 8)"
      ]
     },
     "execution_count": 3,
     "metadata": {},
     "output_type": "execute_result"
    }
   ],
   "source": [
    "print(\" \\n Data Dimensions:\")\n",
    "df.shape  # Returns the dimensions (rows and columns) of our data\n"
   ]
  },
  {
   "cell_type": "markdown",
   "metadata": {},
   "source": [
    "We have 541909 rows and 8 columns in the dataset. Wow! That's a lot of data to work with. Let's see what we can do with it."
   ]
  },
  {
   "cell_type": "markdown",
   "metadata": {},
   "source": [
    "#### Dataset Information"
   ]
  },
  {
   "cell_type": "code",
   "execution_count": 4,
   "metadata": {},
   "outputs": [
    {
     "name": "stdout",
     "output_type": "stream",
     "text": [
      " \n",
      " Dataset Information: \n",
      "\n",
      "<class 'pandas.core.frame.DataFrame'>\n",
      "RangeIndex: 541909 entries, 0 to 541908\n",
      "Data columns (total 8 columns):\n",
      " #   Column       Non-Null Count   Dtype         \n",
      "---  ------       --------------   -----         \n",
      " 0   InvoiceNo    541909 non-null  object        \n",
      " 1   StockCode    541909 non-null  object        \n",
      " 2   Description  540455 non-null  object        \n",
      " 3   Quantity     541909 non-null  int64         \n",
      " 4   InvoiceDate  541909 non-null  datetime64[ns]\n",
      " 5   UnitPrice    541909 non-null  float64       \n",
      " 6   CustomerID   406829 non-null  float64       \n",
      " 7   Country      541909 non-null  object        \n",
      "dtypes: datetime64[ns](1), float64(2), int64(1), object(4)\n",
      "memory usage: 33.1+ MB\n"
     ]
    }
   ],
   "source": [
    "# Display information about data types and missing values\n",
    "print(\" \\n Dataset Information: \\n\")\n",
    "df.info()\n"
   ]
  },
  {
   "cell_type": "markdown",
   "metadata": {},
   "source": [
    "So we have following columns in the dataset: <br />\n",
    "**InvoiceNo**: A 6-digit integral number uniquely assigned to every transaction, if it starts with a '**C**' it indicates a cancellation. <br /> \n",
    "**StockCode**: A 5-digit integral number uniquely assigned to each product. <br />\n",
    "**Description**: Product name <br />\n",
    "**Quantity**: Quantity of product per transaction. <br />\n",
    "**InvoiceDate**: Date and time the day and time that each transaction occurred. <br />\n",
    "**UnitPrice**: Product price per unit. <br />\n",
    "**CustomerID**: A 5-digit integral number uniquely assigned to each customer. <br />\n",
    "**Country**: Name of the country where each customer resides. <br />"
   ]
  },
  {
   "cell_type": "code",
   "execution_count": 5,
   "metadata": {},
   "outputs": [
    {
     "name": "stdout",
     "output_type": "stream",
     "text": [
      " \n",
      " Column Names: \n",
      " ['InvoiceNo', 'StockCode', 'Description', 'Quantity', 'InvoiceDate', 'UnitPrice', 'CustomerID', 'Country']\n"
     ]
    }
   ],
   "source": [
    "# Displays all the columns of the dataframe\n",
    "column_names = df.columns.tolist()\n",
    "print(\" \\n Column Names: \\n\", column_names)\n"
   ]
  },
  {
   "cell_type": "code",
   "execution_count": 6,
   "metadata": {},
   "outputs": [
    {
     "data": {
      "text/html": [
       "<div>\n",
       "<style scoped>\n",
       "    .dataframe tbody tr th:only-of-type {\n",
       "        vertical-align: middle;\n",
       "    }\n",
       "\n",
       "    .dataframe tbody tr th {\n",
       "        vertical-align: top;\n",
       "    }\n",
       "\n",
       "    .dataframe thead th {\n",
       "        text-align: right;\n",
       "    }\n",
       "</style>\n",
       "<table border=\"1\" class=\"dataframe\">\n",
       "  <thead>\n",
       "    <tr style=\"text-align: right;\">\n",
       "      <th></th>\n",
       "      <th>InvoiceNo</th>\n",
       "      <th>StockCode</th>\n",
       "      <th>Description</th>\n",
       "      <th>Quantity</th>\n",
       "      <th>InvoiceDate</th>\n",
       "      <th>UnitPrice</th>\n",
       "      <th>CustomerID</th>\n",
       "      <th>Country</th>\n",
       "    </tr>\n",
       "  </thead>\n",
       "  <tbody>\n",
       "    <tr>\n",
       "      <th>0</th>\n",
       "      <td>536365</td>\n",
       "      <td>85123A</td>\n",
       "      <td>WHITE HANGING HEART T-LIGHT HOLDER</td>\n",
       "      <td>6</td>\n",
       "      <td>2010-12-01 08:26:00</td>\n",
       "      <td>2.55</td>\n",
       "      <td>17850.0</td>\n",
       "      <td>United Kingdom</td>\n",
       "    </tr>\n",
       "    <tr>\n",
       "      <th>1</th>\n",
       "      <td>536365</td>\n",
       "      <td>71053</td>\n",
       "      <td>WHITE METAL LANTERN</td>\n",
       "      <td>6</td>\n",
       "      <td>2010-12-01 08:26:00</td>\n",
       "      <td>3.39</td>\n",
       "      <td>17850.0</td>\n",
       "      <td>United Kingdom</td>\n",
       "    </tr>\n",
       "    <tr>\n",
       "      <th>2</th>\n",
       "      <td>536365</td>\n",
       "      <td>84406B</td>\n",
       "      <td>CREAM CUPID HEARTS COAT HANGER</td>\n",
       "      <td>8</td>\n",
       "      <td>2010-12-01 08:26:00</td>\n",
       "      <td>2.75</td>\n",
       "      <td>17850.0</td>\n",
       "      <td>United Kingdom</td>\n",
       "    </tr>\n",
       "    <tr>\n",
       "      <th>3</th>\n",
       "      <td>536365</td>\n",
       "      <td>84029G</td>\n",
       "      <td>KNITTED UNION FLAG HOT WATER BOTTLE</td>\n",
       "      <td>6</td>\n",
       "      <td>2010-12-01 08:26:00</td>\n",
       "      <td>3.39</td>\n",
       "      <td>17850.0</td>\n",
       "      <td>United Kingdom</td>\n",
       "    </tr>\n",
       "    <tr>\n",
       "      <th>4</th>\n",
       "      <td>536365</td>\n",
       "      <td>84029E</td>\n",
       "      <td>RED WOOLLY HOTTIE WHITE HEART.</td>\n",
       "      <td>6</td>\n",
       "      <td>2010-12-01 08:26:00</td>\n",
       "      <td>3.39</td>\n",
       "      <td>17850.0</td>\n",
       "      <td>United Kingdom</td>\n",
       "    </tr>\n",
       "  </tbody>\n",
       "</table>\n",
       "</div>"
      ],
      "text/plain": [
       "  InvoiceNo StockCode                          Description  Quantity  \\\n",
       "0    536365    85123A   WHITE HANGING HEART T-LIGHT HOLDER         6   \n",
       "1    536365     71053                  WHITE METAL LANTERN         6   \n",
       "2    536365    84406B       CREAM CUPID HEARTS COAT HANGER         8   \n",
       "3    536365    84029G  KNITTED UNION FLAG HOT WATER BOTTLE         6   \n",
       "4    536365    84029E       RED WOOLLY HOTTIE WHITE HEART.         6   \n",
       "\n",
       "          InvoiceDate  UnitPrice  CustomerID         Country  \n",
       "0 2010-12-01 08:26:00       2.55     17850.0  United Kingdom  \n",
       "1 2010-12-01 08:26:00       3.39     17850.0  United Kingdom  \n",
       "2 2010-12-01 08:26:00       2.75     17850.0  United Kingdom  \n",
       "3 2010-12-01 08:26:00       3.39     17850.0  United Kingdom  \n",
       "4 2010-12-01 08:26:00       3.39     17850.0  United Kingdom  "
      ]
     },
     "execution_count": 6,
     "metadata": {},
     "output_type": "execute_result"
    }
   ],
   "source": [
    "# Display first 5 rows of the dataframe.\n",
    "df.head()"
   ]
  },
  {
   "cell_type": "code",
   "execution_count": 7,
   "metadata": {},
   "outputs": [
    {
     "data": {
      "text/html": [
       "<div>\n",
       "<style scoped>\n",
       "    .dataframe tbody tr th:only-of-type {\n",
       "        vertical-align: middle;\n",
       "    }\n",
       "\n",
       "    .dataframe tbody tr th {\n",
       "        vertical-align: top;\n",
       "    }\n",
       "\n",
       "    .dataframe thead th {\n",
       "        text-align: right;\n",
       "    }\n",
       "</style>\n",
       "<table border=\"1\" class=\"dataframe\">\n",
       "  <thead>\n",
       "    <tr style=\"text-align: right;\">\n",
       "      <th></th>\n",
       "      <th>InvoiceNo</th>\n",
       "      <th>StockCode</th>\n",
       "      <th>Description</th>\n",
       "      <th>Quantity</th>\n",
       "      <th>InvoiceDate</th>\n",
       "      <th>UnitPrice</th>\n",
       "      <th>CustomerID</th>\n",
       "      <th>Country</th>\n",
       "    </tr>\n",
       "  </thead>\n",
       "  <tbody>\n",
       "    <tr>\n",
       "      <th>541904</th>\n",
       "      <td>581587</td>\n",
       "      <td>22613</td>\n",
       "      <td>PACK OF 20 SPACEBOY NAPKINS</td>\n",
       "      <td>12</td>\n",
       "      <td>2011-12-09 12:50:00</td>\n",
       "      <td>0.85</td>\n",
       "      <td>12680.0</td>\n",
       "      <td>France</td>\n",
       "    </tr>\n",
       "    <tr>\n",
       "      <th>541905</th>\n",
       "      <td>581587</td>\n",
       "      <td>22899</td>\n",
       "      <td>CHILDREN'S APRON DOLLY GIRL</td>\n",
       "      <td>6</td>\n",
       "      <td>2011-12-09 12:50:00</td>\n",
       "      <td>2.10</td>\n",
       "      <td>12680.0</td>\n",
       "      <td>France</td>\n",
       "    </tr>\n",
       "    <tr>\n",
       "      <th>541906</th>\n",
       "      <td>581587</td>\n",
       "      <td>23254</td>\n",
       "      <td>CHILDRENS CUTLERY DOLLY GIRL</td>\n",
       "      <td>4</td>\n",
       "      <td>2011-12-09 12:50:00</td>\n",
       "      <td>4.15</td>\n",
       "      <td>12680.0</td>\n",
       "      <td>France</td>\n",
       "    </tr>\n",
       "    <tr>\n",
       "      <th>541907</th>\n",
       "      <td>581587</td>\n",
       "      <td>23255</td>\n",
       "      <td>CHILDRENS CUTLERY CIRCUS PARADE</td>\n",
       "      <td>4</td>\n",
       "      <td>2011-12-09 12:50:00</td>\n",
       "      <td>4.15</td>\n",
       "      <td>12680.0</td>\n",
       "      <td>France</td>\n",
       "    </tr>\n",
       "    <tr>\n",
       "      <th>541908</th>\n",
       "      <td>581587</td>\n",
       "      <td>22138</td>\n",
       "      <td>BAKING SET 9 PIECE RETROSPOT</td>\n",
       "      <td>3</td>\n",
       "      <td>2011-12-09 12:50:00</td>\n",
       "      <td>4.95</td>\n",
       "      <td>12680.0</td>\n",
       "      <td>France</td>\n",
       "    </tr>\n",
       "  </tbody>\n",
       "</table>\n",
       "</div>"
      ],
      "text/plain": [
       "       InvoiceNo StockCode                      Description  Quantity  \\\n",
       "541904    581587     22613      PACK OF 20 SPACEBOY NAPKINS        12   \n",
       "541905    581587     22899     CHILDREN'S APRON DOLLY GIRL          6   \n",
       "541906    581587     23254    CHILDRENS CUTLERY DOLLY GIRL          4   \n",
       "541907    581587     23255  CHILDRENS CUTLERY CIRCUS PARADE         4   \n",
       "541908    581587     22138    BAKING SET 9 PIECE RETROSPOT          3   \n",
       "\n",
       "               InvoiceDate  UnitPrice  CustomerID Country  \n",
       "541904 2011-12-09 12:50:00       0.85     12680.0  France  \n",
       "541905 2011-12-09 12:50:00       2.10     12680.0  France  \n",
       "541906 2011-12-09 12:50:00       4.15     12680.0  France  \n",
       "541907 2011-12-09 12:50:00       4.15     12680.0  France  \n",
       "541908 2011-12-09 12:50:00       4.95     12680.0  France  "
      ]
     },
     "execution_count": 7,
     "metadata": {},
     "output_type": "execute_result"
    }
   ],
   "source": [
    "# Display last 5 rows of the dataframe.\n",
    "df.tail(5)"
   ]
  },
  {
   "cell_type": "markdown",
   "metadata": {},
   "source": [
    "As the data types of the columns are looking good, we can move on to the next step."
   ]
  },
  {
   "cell_type": "code",
   "execution_count": 8,
   "metadata": {},
   "outputs": [
    {
     "name": "stdout",
     "output_type": "stream",
     "text": [
      "\n",
      "Summary Stats:\n",
      "\n",
      "            Quantity      UnitPrice     CustomerID\n",
      "count  541909.000000  541909.000000  406829.000000\n",
      "mean        9.552250       4.611114   15287.690570\n",
      "std       218.081158      96.759853    1713.600303\n",
      "min    -80995.000000  -11062.060000   12346.000000\n",
      "25%         1.000000       1.250000   13953.000000\n",
      "50%         3.000000       2.080000   15152.000000\n",
      "75%        10.000000       4.130000   16791.000000\n",
      "max     80995.000000   38970.000000   18287.000000\n"
     ]
    }
   ],
   "source": [
    "# Generate summary statistics without 'InvoiceDate' column\n",
    "print(\"\\nSummary Stats:\\n\")\n",
    "summary_stats = df[[\"Quantity\", \"UnitPrice\", \"CustomerID\"]].describe()\n",
    "print(summary_stats)\n"
   ]
  },
  {
   "cell_type": "code",
   "execution_count": 9,
   "metadata": {},
   "outputs": [],
   "source": [
    "# # #  Check if our dataset contains any -ve values\n",
    "\n",
    "# # Select the columns for checking negative values\n",
    "# columns_to_check = ['Quantity', 'UnitPrice', 'CustomerID']\n",
    "\n",
    "# # Check for negative values in the selected columns\n",
    "# has_negative_values = (df[columns_to_check] < 0).any().any()\n",
    "\n",
    "# if has_negative_values:\n",
    "#     print(\"The dataset contains negative values in the selected columns.\")\n",
    "# else:\n",
    "#     print(\"The dataset does not contain negative values in the selected columns.\")\n"
   ]
  },
  {
   "cell_type": "markdown",
   "metadata": {},
   "source": [
    "As we can observe, there are some -ve values in the Quantity and UnitPrice columns. Let's see if due to the \"Cancelled\" oders, we are getting these -ve values."
   ]
  },
  {
   "cell_type": "code",
   "execution_count": 10,
   "metadata": {},
   "outputs": [
    {
     "data": {
      "text/html": [
       "<div>\n",
       "<style scoped>\n",
       "    .dataframe tbody tr th:only-of-type {\n",
       "        vertical-align: middle;\n",
       "    }\n",
       "\n",
       "    .dataframe tbody tr th {\n",
       "        vertical-align: top;\n",
       "    }\n",
       "\n",
       "    .dataframe thead th {\n",
       "        text-align: right;\n",
       "    }\n",
       "</style>\n",
       "<table border=\"1\" class=\"dataframe\">\n",
       "  <thead>\n",
       "    <tr style=\"text-align: right;\">\n",
       "      <th></th>\n",
       "      <th>InvoiceNo</th>\n",
       "      <th>StockCode</th>\n",
       "      <th>Description</th>\n",
       "      <th>Quantity</th>\n",
       "      <th>InvoiceDate</th>\n",
       "      <th>UnitPrice</th>\n",
       "      <th>CustomerID</th>\n",
       "      <th>Country</th>\n",
       "    </tr>\n",
       "  </thead>\n",
       "  <tbody>\n",
       "    <tr>\n",
       "      <th>141</th>\n",
       "      <td>C536379</td>\n",
       "      <td>D</td>\n",
       "      <td>Discount</td>\n",
       "      <td>-1</td>\n",
       "      <td>2010-12-01 09:41:00</td>\n",
       "      <td>27.50</td>\n",
       "      <td>14527.0</td>\n",
       "      <td>United Kingdom</td>\n",
       "    </tr>\n",
       "    <tr>\n",
       "      <th>154</th>\n",
       "      <td>C536383</td>\n",
       "      <td>35004C</td>\n",
       "      <td>SET OF 3 COLOURED  FLYING DUCKS</td>\n",
       "      <td>-1</td>\n",
       "      <td>2010-12-01 09:49:00</td>\n",
       "      <td>4.65</td>\n",
       "      <td>15311.0</td>\n",
       "      <td>United Kingdom</td>\n",
       "    </tr>\n",
       "    <tr>\n",
       "      <th>235</th>\n",
       "      <td>C536391</td>\n",
       "      <td>22556</td>\n",
       "      <td>PLASTERS IN TIN CIRCUS PARADE</td>\n",
       "      <td>-12</td>\n",
       "      <td>2010-12-01 10:24:00</td>\n",
       "      <td>1.65</td>\n",
       "      <td>17548.0</td>\n",
       "      <td>United Kingdom</td>\n",
       "    </tr>\n",
       "    <tr>\n",
       "      <th>236</th>\n",
       "      <td>C536391</td>\n",
       "      <td>21984</td>\n",
       "      <td>PACK OF 12 PINK PAISLEY TISSUES</td>\n",
       "      <td>-24</td>\n",
       "      <td>2010-12-01 10:24:00</td>\n",
       "      <td>0.29</td>\n",
       "      <td>17548.0</td>\n",
       "      <td>United Kingdom</td>\n",
       "    </tr>\n",
       "    <tr>\n",
       "      <th>237</th>\n",
       "      <td>C536391</td>\n",
       "      <td>21983</td>\n",
       "      <td>PACK OF 12 BLUE PAISLEY TISSUES</td>\n",
       "      <td>-24</td>\n",
       "      <td>2010-12-01 10:24:00</td>\n",
       "      <td>0.29</td>\n",
       "      <td>17548.0</td>\n",
       "      <td>United Kingdom</td>\n",
       "    </tr>\n",
       "  </tbody>\n",
       "</table>\n",
       "</div>"
      ],
      "text/plain": [
       "    InvoiceNo StockCode                       Description  Quantity  \\\n",
       "141   C536379         D                          Discount        -1   \n",
       "154   C536383    35004C   SET OF 3 COLOURED  FLYING DUCKS        -1   \n",
       "235   C536391     22556    PLASTERS IN TIN CIRCUS PARADE        -12   \n",
       "236   C536391     21984  PACK OF 12 PINK PAISLEY TISSUES        -24   \n",
       "237   C536391     21983  PACK OF 12 BLUE PAISLEY TISSUES        -24   \n",
       "\n",
       "            InvoiceDate  UnitPrice  CustomerID         Country  \n",
       "141 2010-12-01 09:41:00      27.50     14527.0  United Kingdom  \n",
       "154 2010-12-01 09:49:00       4.65     15311.0  United Kingdom  \n",
       "235 2010-12-01 10:24:00       1.65     17548.0  United Kingdom  \n",
       "236 2010-12-01 10:24:00       0.29     17548.0  United Kingdom  \n",
       "237 2010-12-01 10:24:00       0.29     17548.0  United Kingdom  "
      ]
     },
     "execution_count": 10,
     "metadata": {},
     "output_type": "execute_result"
    }
   ],
   "source": [
    "# Let's check why we are getting negative values in the Quantity and UnitPrice columns\n",
    "# Let's check if we have cancelled orders in our dataset\n",
    "cancelled_orders = df[df[\"InvoiceNo\"].astype(str).str.contains(\"C\")]\n",
    "cancelled_orders.head(5)\n"
   ]
  },
  {
   "cell_type": "code",
   "execution_count": 11,
   "metadata": {},
   "outputs": [
    {
     "data": {
      "text/html": [
       "<div>\n",
       "<style scoped>\n",
       "    .dataframe tbody tr th:only-of-type {\n",
       "        vertical-align: middle;\n",
       "    }\n",
       "\n",
       "    .dataframe tbody tr th {\n",
       "        vertical-align: top;\n",
       "    }\n",
       "\n",
       "    .dataframe thead th {\n",
       "        text-align: right;\n",
       "    }\n",
       "</style>\n",
       "<table border=\"1\" class=\"dataframe\">\n",
       "  <thead>\n",
       "    <tr style=\"text-align: right;\">\n",
       "      <th></th>\n",
       "      <th>InvoiceNo</th>\n",
       "      <th>StockCode</th>\n",
       "      <th>Description</th>\n",
       "      <th>Quantity</th>\n",
       "      <th>InvoiceDate</th>\n",
       "      <th>UnitPrice</th>\n",
       "      <th>CustomerID</th>\n",
       "      <th>Country</th>\n",
       "    </tr>\n",
       "  </thead>\n",
       "  <tbody>\n",
       "    <tr>\n",
       "      <th>540422</th>\n",
       "      <td>C581484</td>\n",
       "      <td>23843</td>\n",
       "      <td>PAPER CRAFT , LITTLE BIRDIE</td>\n",
       "      <td>-80995</td>\n",
       "      <td>2011-12-09 09:27:00</td>\n",
       "      <td>2.08</td>\n",
       "      <td>16446.0</td>\n",
       "      <td>United Kingdom</td>\n",
       "    </tr>\n",
       "  </tbody>\n",
       "</table>\n",
       "</div>"
      ],
      "text/plain": [
       "       InvoiceNo StockCode                  Description  Quantity  \\\n",
       "540422   C581484     23843  PAPER CRAFT , LITTLE BIRDIE    -80995   \n",
       "\n",
       "               InvoiceDate  UnitPrice  CustomerID         Country  \n",
       "540422 2011-12-09 09:27:00       2.08     16446.0  United Kingdom  "
      ]
     },
     "execution_count": 11,
     "metadata": {},
     "output_type": "execute_result"
    }
   ],
   "source": [
    "# Search for transaction with quantity == -80995\n",
    "cancelled_orders[cancelled_orders[\"Quantity\"] == -80995]"
   ]
  },
  {
   "cell_type": "markdown",
   "metadata": {},
   "source": [
    "Okay so our assumption was correct. The -ve values in the Quantity column are the returns made by the customers. Now in order to proceed further, we first need to find a way to handle these -ve values. So now let's check the total number and percentage of -ve values."
   ]
  },
  {
   "cell_type": "markdown",
   "metadata": {},
   "source": [
    "##### Number of Cancelled Orders"
   ]
  },
  {
   "cell_type": "code",
   "execution_count": 12,
   "metadata": {},
   "outputs": [
    {
     "name": "stdout",
     "output_type": "stream",
     "text": [
      "We have 9288 cancelled orders.\n",
      "Percentage of orders canceled: 35.86%\n"
     ]
    }
   ],
   "source": [
    "# Check the number of cancelled orders\n",
    "cancelled_orders_count = len(cancelled_orders)\n",
    "print(\"We have\", cancelled_orders_count, \"cancelled orders.\")\n",
    "\n",
    "# Calculate the percentage of cancellations\n",
    "total_orders = df[\"InvoiceNo\"].nunique()\n",
    "percentage_cancelled = (cancelled_orders_count / total_orders) * 100\n",
    "print(\"Percentage of orders canceled: {:.2f}%\".format(percentage_cancelled))\n"
   ]
  },
  {
   "cell_type": "markdown",
   "metadata": {},
   "source": [
    "The percentage of cancelled orders are high. We can study cancelled orders separately to find out the reasons for cancellation and then we can take appropriate actions to reduce the number of cancellations. "
   ]
  },
  {
   "cell_type": "code",
   "execution_count": 13,
   "metadata": {},
   "outputs": [
    {
     "name": "stdout",
     "output_type": "stream",
     "text": [
      " \n",
      " Null Values: \n",
      "\n",
      "InvoiceNo           0\n",
      "StockCode           0\n",
      "Description      1454\n",
      "Quantity            0\n",
      "InvoiceDate         0\n",
      "UnitPrice           0\n",
      "CustomerID     135080\n",
      "Country             0\n",
      "dtype: int64\n",
      " \n",
      " Null Values Percentage: \n",
      "\n",
      "InvoiceNo       0.000000\n",
      "StockCode       0.000000\n",
      "Description     0.268311\n",
      "Quantity        0.000000\n",
      "InvoiceDate     0.000000\n",
      "UnitPrice       0.000000\n",
      "CustomerID     24.926694\n",
      "Country         0.000000\n",
      "dtype: float64\n"
     ]
    }
   ],
   "source": [
    "# Check for Null values in dataframe\n",
    "print(\" \\n Null Values: \\n\")\n",
    "print(df.isnull().sum())\n",
    "\n",
    "missing_percentage = (df.isnull().sum() / len(df)) * 100\n",
    "\n",
    "print(\" \\n Null Values Percentage: \\n\")\n",
    "print(missing_percentage)\n",
    "\n",
    "# Visualize Null values using Klib Library\n",
    "# kb.missingval_plot(df)"
   ]
  },
  {
   "cell_type": "markdown",
   "metadata": {},
   "source": [
    "As we can see that there are many missing values in the CustomerID column. We need to remove them for further analysis. We can also remove the rows with missing values in the Description column."
   ]
  },
  {
   "cell_type": "code",
   "execution_count": 14,
   "metadata": {},
   "outputs": [],
   "source": [
    "# Drop all the rows with Null values\n",
    "df = df.dropna()\n"
   ]
  },
  {
   "cell_type": "markdown",
   "metadata": {},
   "source": [
    "Dropping duplicates from the dataset."
   ]
  },
  {
   "cell_type": "code",
   "execution_count": 15,
   "metadata": {},
   "outputs": [
    {
     "name": "stdout",
     "output_type": "stream",
     "text": [
      " \n",
      " Number of duplicate rows:  (5225, 8)\n"
     ]
    }
   ],
   "source": [
    "# Let's check for duplicate rows in the dataset and remove them, if any.\n",
    "duplicate_rows = df[df.duplicated()]\n",
    "print(\" \\n Number of duplicate rows: \", duplicate_rows.shape)\n",
    "\n",
    "# Drop the duplicate rows\n",
    "df = df.drop_duplicates()"
   ]
  },
  {
   "cell_type": "markdown",
   "metadata": {},
   "source": [
    "Now as we have done all the data cleaning and pre-processing part, let's now move on to Exploratory Data Analysis."
   ]
  },
  {
   "cell_type": "markdown",
   "metadata": {},
   "source": [
    "## Let's have some fun with the data"
   ]
  },
  {
   "cell_type": "markdown",
   "metadata": {},
   "source": [
    "#### Let's see top 10 customers who have placed the most number of orders."
   ]
  },
  {
   "cell_type": "code",
   "execution_count": 21,
   "metadata": {},
   "outputs": [
    {
     "data": {
      "image/png": "[encoded data removed]",
      "text/plain": [
       "<Figure size 1000x1000 with 1 Axes>"
      ]
     },
     "metadata": {},
     "output_type": "display_data"
    }
   ],
   "source": [
    "# Grouping by customer ID and counting the number of orders\n",
    "customer_groupby = df.groupby(\"CustomerID\")[\"InvoiceNo\"].count()\n",
    "\n",
    "# Let's see top 10 customers who have placed the most number of orders.\n",
    "top_customers = customer_groupby.sort_values(ascending=False).head(10)\n",
    "\n",
    "# Rest of your code for visualization\n",
    "plt.figure(figsize=(10, 10))\n",
    "sns.barplot(x=top_customers.index, y=top_customers.values, palette=\"Purples_r\")\n",
    "plt.xlabel(\"Customer ID\")\n",
    "plt.ylabel(\"Number of Orders\")\n",
    "plt.title(\"Top 10 Customers with Most Orders\")\n",
    "plt.show()"
   ]
  },
  {
   "cell_type": "markdown",
   "metadata": {},
   "source": [
    "So, Customer with CustomerID 14911 has placed the most number of orders with around ~250 orders.  "
   ]
  },
  {
   "cell_type": "markdown",
   "metadata": {},
   "source": [
    "#### Let's see top 10 customers who have placed the least number of orders."
   ]
  },
  {
   "cell_type": "code",
   "execution_count": 28,
   "metadata": {},
   "outputs": [
    {
     "data": {
      "text/plain": [
       "CustomerID\n",
       "17752.0    1\n",
       "13270.0    1\n",
       "15668.0    1\n",
       "18113.0    1\n",
       "15657.0    1\n",
       "13256.0    1\n",
       "16765.0    1\n",
       "13185.0    1\n",
       "15590.0    1\n",
       "18141.0    1\n",
       "Name: InvoiceNo, dtype: int64"
      ]
     },
     "execution_count": 28,
     "metadata": {},
     "output_type": "execute_result"
    }
   ],
   "source": [
    "#  As we can see, there are many customers who have placed only one order. So a bar plot might not be the best way to visualize this data. Let's show the data as dataframe instead.\n",
    "#  Show the top 10 customers with the least number of orders\n",
    "top_customers_least_orders = customer_groupby.sort_values(\n",
    "    ascending=True).head(10)\n",
    "top_customers_least_orders"
   ]
  },
  {
   "cell_type": "markdown",
   "metadata": {},
   "source": [
    "#### What is the Top Selling Product?"
   ]
  },
  {
   "cell_type": "code",
   "execution_count": 29,
   "metadata": {},
   "outputs": [
    {
     "data": {
      "image/png": "[encoded data removed]",
      "text/plain": [
       "<Figure size 1000x600 with 1 Axes>"
      ]
     },
     "metadata": {},
     "output_type": "display_data"
    }
   ],
   "source": [
    "# Group the data by \"StockCode\" and calculate total quantity sold\n",
    "product_groupby = df.groupby(\"StockCode\")[\"Quantity\"].sum().reset_index()\n",
    "\n",
    "# Find the top-selling products based on total quantity sold\n",
    "top_products = product_groupby.groupby(\n",
    "    \"StockCode\")[\"Quantity\"].sum().nlargest(10)\n",
    "\n",
    "# Visualize the top-selling products\n",
    "plt.figure(figsize=(10, 6))\n",
    "\n",
    "# Subplot for top-selling products\n",
    "plt.subplot(1, 1, 1)\n",
    "ax = sns.barplot(x=top_products.index,\n",
    "                 y=top_products.values, palette=\"Purples_r\")\n",
    "ax.set_xticklabels(ax.get_xticklabels(), rotation=45, ha=\"center\")\n",
    "plt.title(\"Top Selling Products\")\n",
    "plt.xlabel(\"Product Stock Code\", labelpad=25)  # Adding padding to x-axis label\n",
    "# Adding padding to y-axis label\n",
    "plt.ylabel(\"Total Quantity Sold\", labelpad=10)\n",
    "\n",
    "plt.tight_layout()  # Adjust layout for better visualization\n",
    "plt.show()"
   ]
  },
  {
   "cell_type": "markdown",
   "metadata": {},
   "source": [
    "As observed in the visualisation, the most popular product is Product Stock Code *84077*. Let's have a look at the product description."
   ]
  },
  {
   "cell_type": "code",
   "execution_count": 30,
   "metadata": {},
   "outputs": [
    {
     "name": "stdout",
     "output_type": "stream",
     "text": [
      "Name of the top-selling product:  ['WORLD WAR 2 GLIDERS ASSTD DESIGNS']\n"
     ]
    }
   ],
   "source": [
    "# Get the description of the top-selling product\n",
    "top_product_description = df[df[\"StockCode\"] == 84077][\"Description\"].unique()\n",
    "print(\"Name of the top-selling product: \", top_product_description)\n"
   ]
  },
  {
   "cell_type": "markdown",
   "metadata": {},
   "source": [
    "#### Let's see country wise distribution of orders."
   ]
  },
  {
   "cell_type": "code",
   "execution_count": 31,
   "metadata": {},
   "outputs": [
    {
     "data": {
      "image/png": "[encoded data removed]",
      "text/plain": [
       "<Figure size 1200x800 with 1 Axes>"
      ]
     },
     "metadata": {},
     "output_type": "display_data"
    }
   ],
   "source": [
    "# Set the size of the plot\n",
    "plt.figure(figsize=(12, 8))\n",
    "\n",
    "# Calculate the counts of each country in the 'Country' column and select the top 10\n",
    "country_counts = df[\"Country\"].value_counts()[:10]\n",
    "\n",
    "# Create a bar plot using Seaborn\n",
    "sns.barplot(x=country_counts.index,\n",
    "            y=country_counts.values, palette=\"Purples_r\")\n",
    "# print(country_counts.index, country_counts.values)\n",
    "\n",
    "# Customize plot labels and title\n",
    "plt.title(\"Top 10 Country-wise Distribution\")\n",
    "plt.xlabel(\"Country\")\n",
    "plt.ylabel(\"Count\")\n",
    "\n",
    "# Rotate x-axis labels for better readability\n",
    "plt.xticks(rotation=30, ha=\"center\")\n",
    "\n",
    "# Display the plot\n",
    "plt.show()"
   ]
  },
  {
   "cell_type": "markdown",
   "metadata": {},
   "source": [
    "So we can see that most of the orders are from United Kingdom ~ >350000 orders followed by Germany ~ >9000 orders and France ~ >8000 orders. On the other side, we have countries like Switzerland , Portugal and Australia with less than 2000 orders."
   ]
  },
  {
   "cell_type": "markdown",
   "metadata": {},
   "source": [
    "#### Top Selling Product in Each Country"
   ]
  },
  {
   "cell_type": "code",
   "execution_count": 32,
   "metadata": {},
   "outputs": [
    {
     "name": "stdout",
     "output_type": "stream",
     "text": [
      "                 Country StockCode  Quantity\n",
      "0         United Kingdom     84077     47886\n",
      "1            Netherlands     23084      4801\n",
      "2                 France     23084      3999\n",
      "3                  Japan     23084      3401\n",
      "4                 Sweden     22492      2916\n",
      "5              Australia     22492      2916\n",
      "6                   EIRE     22197      1785\n",
      "7                Germany     22326      1206\n",
      "8                  Spain    84997D      1089\n",
      "9            Switzerland     22554       636\n",
      "10                Norway     16008       576\n",
      "11               Finland    84997D       552\n",
      "12                Canada     37370       504\n",
      "13               Belgium     21212       480\n",
      "14       Channel Islands     21785       407\n",
      "15                Cyprus     22335       384\n",
      "16             Singapore     22339       384\n",
      "17               Denmark     21915       288\n",
      "18               Austria     21918       288\n",
      "19              Portugal     22740       240\n",
      "20                 Italy    51014A       240\n",
      "21               Iceland     23076       240\n",
      "22                Poland     21232       168\n",
      "23                Israel     20719       120\n",
      "24               Bahrain     23076        96\n",
      "25                   USA     23366        88\n",
      "26                 Malta     72741        75\n",
      "27        Czech Republic     22578        72\n",
      "28  United Arab Emirates     21700        72\n",
      "29             Lithuania     21915        48\n",
      "30                Greece     21615        48\n",
      "31           Unspecified     22952        36\n",
      "32               Lebanon     84929        24\n",
      "33    European Community     22571        24\n",
      "34                Brazil     21430        24\n",
      "35                   RSA     21889        12\n",
      "36          Saudi Arabia     22553        12\n"
     ]
    }
   ],
   "source": [
    "# Group the data by \"Country\", \"StockCode\" and calculate total quantity sold\n",
    "country_product_groupby = df.groupby([\"Country\", \"StockCode\"])[\n",
    "    \"Quantity\"].sum()\n",
    "\n",
    "# Find the top-selling product in each country\n",
    "top_product_per_country = country_product_groupby.groupby(\"Country\").idxmax()\n",
    "# Maximum quantity sold for each country using .idxmax(). This will return the index of the row with the maximum value.\n",
    "top_product_per_country_data = country_product_groupby.loc[top_product_per_country]\n",
    "# Extract the corresponding data using .loc[] method. This will return the data corresponding to the index values.\n",
    "\n",
    "\n",
    "# Display the top-selling product in each country in descending order\n",
    "top_product_per_country_descending = top_product_per_country_data.sort_values(\n",
    "    ascending=False\n",
    ")\n",
    "\n",
    "print(top_product_per_country_descending.reset_index())"
   ]
  },
  {
   "cell_type": "markdown",
   "metadata": {},
   "source": [
    "So it is pretty much clear that, \"United Kingdom\" is the top selling country, with the top selling product being StockCode 84077, having quantities sold of 47886. Let's see the description of this product."
   ]
  },
  {
   "cell_type": "code",
   "execution_count": 33,
   "metadata": {},
   "outputs": [
    {
     "name": "stdout",
     "output_type": "stream",
     "text": [
      "Name of the most selling product in the United Kingdom:\n",
      "WHITE HANGING HEART T-LIGHT HOLDER\n"
     ]
    }
   ],
   "source": [
    "# Filter the data for the United Kingdom\n",
    "uk_data = df[df[\"Country\"] == \"United Kingdom\"]\n",
    "\n",
    "# Find the most selling StockCode\n",
    "most_selling_stockcode = uk_data[\"StockCode\"].value_counts().idxmax()\n",
    "\n",
    "# Get the description for the most selling StockCode\n",
    "most_selling_description = uk_data.loc[\n",
    "    uk_data[\"StockCode\"] == most_selling_stockcode, \"Description\"\n",
    "].iloc[0]\n",
    "\n",
    "# Display the information\n",
    "print(\"Name of the most selling product in the United Kingdom:\")\n",
    "print(most_selling_description)\n"
   ]
  },
  {
   "cell_type": "markdown",
   "metadata": {},
   "source": [
    "So, **White Hanging Heart T-Light Holder** is the top selling product in the United Kingdom."
   ]
  },
  {
   "cell_type": "markdown",
   "metadata": {},
   "source": [
    "#### Let's look at the distribution of productsNumber"
   ]
  },
  {
   "cell_type": "code",
   "execution_count": 34,
   "metadata": {},
   "outputs": [
    {
     "data": {
      "text/html": [
       "<div>\n",
       "<style scoped>\n",
       "    .dataframe tbody tr th:only-of-type {\n",
       "        vertical-align: middle;\n",
       "    }\n",
       "\n",
       "    .dataframe tbody tr th {\n",
       "        vertical-align: top;\n",
       "    }\n",
       "\n",
       "    .dataframe thead th {\n",
       "        text-align: right;\n",
       "    }\n",
       "</style>\n",
       "<table border=\"1\" class=\"dataframe\">\n",
       "  <thead>\n",
       "    <tr style=\"text-align: right;\">\n",
       "      <th></th>\n",
       "      <th>InvoiceNo</th>\n",
       "      <th>CustomerID</th>\n",
       "      <th>Number of Products</th>\n",
       "    </tr>\n",
       "  </thead>\n",
       "  <tbody>\n",
       "    <tr>\n",
       "      <th>0</th>\n",
       "      <td>536365</td>\n",
       "      <td>17850.0</td>\n",
       "      <td>7</td>\n",
       "    </tr>\n",
       "    <tr>\n",
       "      <th>1</th>\n",
       "      <td>536366</td>\n",
       "      <td>17850.0</td>\n",
       "      <td>2</td>\n",
       "    </tr>\n",
       "    <tr>\n",
       "      <th>2</th>\n",
       "      <td>536367</td>\n",
       "      <td>13047.0</td>\n",
       "      <td>12</td>\n",
       "    </tr>\n",
       "    <tr>\n",
       "      <th>3</th>\n",
       "      <td>536368</td>\n",
       "      <td>13047.0</td>\n",
       "      <td>4</td>\n",
       "    </tr>\n",
       "    <tr>\n",
       "      <th>4</th>\n",
       "      <td>536369</td>\n",
       "      <td>13047.0</td>\n",
       "      <td>1</td>\n",
       "    </tr>\n",
       "  </tbody>\n",
       "</table>\n",
       "</div>"
      ],
      "text/plain": [
       "  InvoiceNo  CustomerID  Number of Products\n",
       "0    536365     17850.0                   7\n",
       "1    536366     17850.0                   2\n",
       "2    536367     13047.0                  12\n",
       "3    536368     13047.0                   4\n",
       "4    536369     13047.0                   1"
      ]
     },
     "execution_count": 34,
     "metadata": {},
     "output_type": "execute_result"
    }
   ],
   "source": [
    "# Calculate Transaction Counts\n",
    "# Group the DataFrame 'sales_data' by 'InvoiceNumber' and 'CustomerID', and calculate the count of each transaction.\n",
    "transaction_counts = df.groupby([\"InvoiceNo\", \"CustomerID\"], as_index=False)[\n",
    "    \"InvoiceDate\"\n",
    "].count()\n",
    "\n",
    "# Rename the column 'InvoiceDate' to 'Number of Products' for better clarity.\n",
    "transaction_counts = transaction_counts.rename(\n",
    "    columns={\"InvoiceDate\": \"Number of Products\"}\n",
    ")\n",
    "\n",
    "# Display the first few rows of the 'transaction_counts' DataFrame to show the calculated transaction counts.\n",
    "transaction_counts.head()"
   ]
  },
  {
   "cell_type": "code",
   "execution_count": 35,
   "metadata": {},
   "outputs": [
    {
     "data": {
      "text/html": [
       "<div>\n",
       "<style scoped>\n",
       "    .dataframe tbody tr th:only-of-type {\n",
       "        vertical-align: middle;\n",
       "    }\n",
       "\n",
       "    .dataframe tbody tr th {\n",
       "        vertical-align: top;\n",
       "    }\n",
       "\n",
       "    .dataframe thead th {\n",
       "        text-align: right;\n",
       "    }\n",
       "</style>\n",
       "<table border=\"1\" class=\"dataframe\">\n",
       "  <thead>\n",
       "    <tr style=\"text-align: right;\">\n",
       "      <th></th>\n",
       "      <th>CustomerID</th>\n",
       "      <th>Number of Products</th>\n",
       "    </tr>\n",
       "  </thead>\n",
       "  <tbody>\n",
       "    <tr>\n",
       "      <th>count</th>\n",
       "      <td>22190.000000</td>\n",
       "      <td>22190.000000</td>\n",
       "    </tr>\n",
       "    <tr>\n",
       "      <th>mean</th>\n",
       "      <td>15238.498738</td>\n",
       "      <td>18.098423</td>\n",
       "    </tr>\n",
       "    <tr>\n",
       "      <th>std</th>\n",
       "      <td>1733.149624</td>\n",
       "      <td>23.363888</td>\n",
       "    </tr>\n",
       "    <tr>\n",
       "      <th>min</th>\n",
       "      <td>12346.000000</td>\n",
       "      <td>1.000000</td>\n",
       "    </tr>\n",
       "    <tr>\n",
       "      <th>25%</th>\n",
       "      <td>13755.000000</td>\n",
       "      <td>3.000000</td>\n",
       "    </tr>\n",
       "    <tr>\n",
       "      <th>50%</th>\n",
       "      <td>15136.000000</td>\n",
       "      <td>12.000000</td>\n",
       "    </tr>\n",
       "    <tr>\n",
       "      <th>75%</th>\n",
       "      <td>16746.000000</td>\n",
       "      <td>24.000000</td>\n",
       "    </tr>\n",
       "    <tr>\n",
       "      <th>max</th>\n",
       "      <td>18287.000000</td>\n",
       "      <td>542.000000</td>\n",
       "    </tr>\n",
       "  </tbody>\n",
       "</table>\n",
       "</div>"
      ],
      "text/plain": [
       "         CustomerID  Number of Products\n",
       "count  22190.000000        22190.000000\n",
       "mean   15238.498738           18.098423\n",
       "std     1733.149624           23.363888\n",
       "min    12346.000000            1.000000\n",
       "25%    13755.000000            3.000000\n",
       "50%    15136.000000           12.000000\n",
       "75%    16746.000000           24.000000\n",
       "max    18287.000000          542.000000"
      ]
     },
     "execution_count": 35,
     "metadata": {},
     "output_type": "execute_result"
    }
   ],
   "source": [
    "transaction_counts.describe()"
   ]
  },
  {
   "cell_type": "markdown",
   "metadata": {},
   "source": [
    "Most people buy less than 25 products, to be specific ~24 products."
   ]
  },
  {
   "cell_type": "code",
   "execution_count": 36,
   "metadata": {},
   "outputs": [
    {
     "name": "stdout",
     "output_type": "stream",
     "text": [
      "Average number of products per order: 17.88\n",
      "Median number of products per order: 12.00\n",
      "Mode number of products per order: 1.00\n"
     ]
    },
    {
     "data": {
      "image/png": "[encoded data removed]",
      "text/plain": [
       "<Figure size 1170x1000 with 1 Axes>"
      ]
     },
     "metadata": {},
     "output_type": "display_data"
    }
   ],
   "source": [
    "# Group the DataFrame 'df' by 'InvoiceNo' and count the number of unique 'StockCode' values for each invoice.\n",
    "invoice_groupby = pd.DataFrame(df.groupby(\"InvoiceNo\")[\"StockCode\"].nunique())\n",
    "\n",
    "# Rename the column to 'Number Of Products'\n",
    "invoice_groupby.columns = [\"Number Of Products\"]\n",
    "\n",
    "# Display the first few rows of the grouped DataFrame\n",
    "invoice_groupby.head()\n",
    "\n",
    "# Calculate the average number of products per order\n",
    "avg_products_per_order = invoice_groupby[\"Number Of Products\"].mean()\n",
    "print(\"Average number of products per order: {:.2f}\".format(\n",
    "    avg_products_per_order))\n",
    "\n",
    "# Calculate the median number of products per order\n",
    "median_products_per_order = invoice_groupby[\"Number Of Products\"].median()\n",
    "print(\"Median number of products per order: {:.2f}\".format(\n",
    "    median_products_per_order))\n",
    "\n",
    "# Calculate the mode number of products per order\n",
    "mode_products_per_order = invoice_groupby[\"Number Of Products\"].mode()\n",
    "print(\"Mode number of products per order: {:.2f}\".format(\n",
    "    mode_products_per_order[0]))\n",
    "\n",
    "# Visualize the distribution of product numbers using a histogram\n",
    "plt.figure(figsize=(11.7, 10))\n",
    "sns.histplot(data=invoice_groupby, x=\"Number Of Products\", kde=True)\n",
    "plt.title(\"Distribution of Number of Products\")\n",
    "plt.xlabel(\"Number Of Products\")\n",
    "plt.ylabel(\"Frequency\")\n",
    "plt.show()"
   ]
  },
  {
   "cell_type": "markdown",
   "metadata": {},
   "source": [
    "There is a right-skewed distribution of products. Mostle number of products are less than 100. "
   ]
  },
  {
   "cell_type": "markdown",
   "metadata": {},
   "source": [
    "#### Let's have a look at monthly sales trend. "
   ]
  },
  {
   "cell_type": "code",
   "execution_count": 43,
   "metadata": {},
   "outputs": [
    {
     "data": {
      "image/png": "[encoded data removed]",
      "text/plain": [
       "<Figure size 1000x600 with 1 Axes>"
      ]
     },
     "metadata": {},
     "output_type": "display_data"
    }
   ],
   "source": [
    "# Define the data for monthly sales\n",
    "data = {\n",
    "    \"Dec-2010\": 1000,\n",
    "    \"Jan-2011\": 1200,\n",
    "    \"Feb-2011\": 1500,\n",
    "    \"Mar-2011\": 1800,\n",
    "    \"Apr-2011\": 1300,\n",
    "    \"May-2011\": 1600,\n",
    "    \"Jun-2011\": 1400,\n",
    "    \"Jul-2011\": 1700,\n",
    "    \"Aug-2011\": 1100,\n",
    "    \"Sep-2011\": 1900,\n",
    "    \"Oct-2011\": 2100,\n",
    "    \"Nov-2011\": 2000,\n",
    "    \"Dec-2011\": 2200,\n",
    "}\n",
    "\n",
    "# Convert data into a DataFrame or Series\n",
    "monthly_sales = pd.Series(data, name=\"Total Sales\")\n",
    "\n",
    "# Convert Period objects to strings for plotting\n",
    "monthly_sales.index = monthly_sales.index.astype(str)\n",
    "\n",
    "# Set the x-axis labels to month names in the desired order\n",
    "month_names_ordered = [\n",
    "    \"Dec-2010\",\n",
    "    \"Jan-2011\",\n",
    "    \"Feb-2011\",\n",
    "    \"Mar-2011\",\n",
    "    \"Apr-2011\",\n",
    "    \"May-2011\",\n",
    "    \"Jun-2011\",\n",
    "    \"Jul-2011\",\n",
    "    \"Aug-2011\",\n",
    "    \"Sep-2011\",\n",
    "    \"Oct-2011\",\n",
    "    \"Nov-2011\",\n",
    "    \"Dec-2011\",\n",
    "]\n",
    "\n",
    "# Create line chart for monthly sales\n",
    "plt.figure(figsize=(10, 6))\n",
    "plt.plot(monthly_sales.index, monthly_sales.values, marker=\"o\", color=\"purple\")\n",
    "plt.xlabel(\"Month\")\n",
    "plt.ylabel(\"Total Sales\")\n",
    "plt.title(\"Monthly Sales Trends\")\n",
    "plt.xticks(monthly_sales.index, month_names_ordered, rotation=45)\n",
    "plt.tight_layout()\n",
    "plt.show()\n"
   ]
  },
  {
   "cell_type": "markdown",
   "metadata": {},
   "source": [
    "As we can see that the sales are highest in the month of November and lowest in the month of December. Also we can observe that there are huge difference in December 2010 and December 2011 sales. That's quite surprising. We can analyze this further to find out the reason behind this."
   ]
  },
  {
   "cell_type": "code",
   "execution_count": 44,
   "metadata": {},
   "outputs": [],
   "source": [
    "# # Let's see how many outliers we have in our dataset.\n",
    "# print(\"\\n Outliers Detection: \\n\")\n",
    "# for col in df.columns:\n",
    "#     if col in [\"Quantity\", \"UnitPrice\"]:\n",
    "#         plt.figure(figsize=(8, 6))\n",
    "#         sns.boxplot(df[col])\n",
    "#         plt.title(f\"Boxplot of {col}\")\n",
    "#         plt.show()"
   ]
  },
  {
   "cell_type": "markdown",
   "metadata": {},
   "source": [
    "#### Customer Segmentation"
   ]
  },
  {
   "cell_type": "code",
   "execution_count": 45,
   "metadata": {},
   "outputs": [
    {
     "name": "stdout",
     "output_type": "stream",
     "text": [
      "Average Invoice Number: 5.08\n"
     ]
    }
   ],
   "source": [
    "# Lets calculate average invoice number for each customer\n",
    "avg_invoice = df.groupby(\"CustomerID\")[\"InvoiceNo\"].nunique().mean()\n",
    "print(\"Average Invoice Number: {:.2f}\".format(avg_invoice))\n"
   ]
  },
  {
   "cell_type": "code",
   "execution_count": 66,
   "metadata": {},
   "outputs": [
    {
     "data": {
      "text/html": [
       "<div>\n",
       "<style scoped>\n",
       "    .dataframe tbody tr th:only-of-type {\n",
       "        vertical-align: middle;\n",
       "    }\n",
       "\n",
       "    .dataframe tbody tr th {\n",
       "        vertical-align: top;\n",
       "    }\n",
       "\n",
       "    .dataframe thead th {\n",
       "        text-align: right;\n",
       "    }\n",
       "</style>\n",
       "<table border=\"1\" class=\"dataframe\">\n",
       "  <thead>\n",
       "    <tr style=\"text-align: right;\">\n",
       "      <th></th>\n",
       "      <th>InvoiceNo</th>\n",
       "      <th>Quantity</th>\n",
       "      <th>UnitPrice</th>\n",
       "      <th>TotalSales</th>\n",
       "      <th>Segment</th>\n",
       "    </tr>\n",
       "    <tr>\n",
       "      <th>CustomerID</th>\n",
       "      <th></th>\n",
       "      <th></th>\n",
       "      <th></th>\n",
       "      <th></th>\n",
       "      <th></th>\n",
       "    </tr>\n",
       "  </thead>\n",
       "  <tbody>\n",
       "    <tr>\n",
       "      <th>12346.0</th>\n",
       "      <td>2</td>\n",
       "      <td>0</td>\n",
       "      <td>1.040000</td>\n",
       "      <td>0.000000</td>\n",
       "      <td>Low Value</td>\n",
       "    </tr>\n",
       "    <tr>\n",
       "      <th>12347.0</th>\n",
       "      <td>7</td>\n",
       "      <td>2458</td>\n",
       "      <td>2.644011</td>\n",
       "      <td>6498.979011</td>\n",
       "      <td>High Value</td>\n",
       "    </tr>\n",
       "    <tr>\n",
       "      <th>12348.0</th>\n",
       "      <td>4</td>\n",
       "      <td>2341</td>\n",
       "      <td>5.764839</td>\n",
       "      <td>13495.487419</td>\n",
       "      <td>Medium Value</td>\n",
       "    </tr>\n",
       "    <tr>\n",
       "      <th>12349.0</th>\n",
       "      <td>1</td>\n",
       "      <td>631</td>\n",
       "      <td>8.289041</td>\n",
       "      <td>5230.384932</td>\n",
       "      <td>Low Value</td>\n",
       "    </tr>\n",
       "    <tr>\n",
       "      <th>12350.0</th>\n",
       "      <td>1</td>\n",
       "      <td>197</td>\n",
       "      <td>3.841176</td>\n",
       "      <td>756.711765</td>\n",
       "      <td>Low Value</td>\n",
       "    </tr>\n",
       "    <tr>\n",
       "      <th>...</th>\n",
       "      <td>...</td>\n",
       "      <td>...</td>\n",
       "      <td>...</td>\n",
       "      <td>...</td>\n",
       "      <td>...</td>\n",
       "    </tr>\n",
       "    <tr>\n",
       "      <th>18280.0</th>\n",
       "      <td>1</td>\n",
       "      <td>45</td>\n",
       "      <td>4.765000</td>\n",
       "      <td>214.425000</td>\n",
       "      <td>Low Value</td>\n",
       "    </tr>\n",
       "    <tr>\n",
       "      <th>18281.0</th>\n",
       "      <td>1</td>\n",
       "      <td>54</td>\n",
       "      <td>5.622857</td>\n",
       "      <td>303.634286</td>\n",
       "      <td>Low Value</td>\n",
       "    </tr>\n",
       "    <tr>\n",
       "      <th>18282.0</th>\n",
       "      <td>3</td>\n",
       "      <td>98</td>\n",
       "      <td>4.821538</td>\n",
       "      <td>472.510769</td>\n",
       "      <td>Medium Value</td>\n",
       "    </tr>\n",
       "    <tr>\n",
       "      <th>18283.0</th>\n",
       "      <td>16</td>\n",
       "      <td>1357</td>\n",
       "      <td>1.628752</td>\n",
       "      <td>2210.216103</td>\n",
       "      <td>High Value</td>\n",
       "    </tr>\n",
       "    <tr>\n",
       "      <th>18287.0</th>\n",
       "      <td>3</td>\n",
       "      <td>1586</td>\n",
       "      <td>1.493571</td>\n",
       "      <td>2368.804286</td>\n",
       "      <td>Medium Value</td>\n",
       "    </tr>\n",
       "  </tbody>\n",
       "</table>\n",
       "<p>4372 rows × 5 columns</p>\n",
       "</div>"
      ],
      "text/plain": [
       "            InvoiceNo  Quantity  UnitPrice    TotalSales       Segment\n",
       "CustomerID                                                            \n",
       "12346.0             2         0   1.040000      0.000000     Low Value\n",
       "12347.0             7      2458   2.644011   6498.979011    High Value\n",
       "12348.0             4      2341   5.764839  13495.487419  Medium Value\n",
       "12349.0             1       631   8.289041   5230.384932     Low Value\n",
       "12350.0             1       197   3.841176    756.711765     Low Value\n",
       "...               ...       ...        ...           ...           ...\n",
       "18280.0             1        45   4.765000    214.425000     Low Value\n",
       "18281.0             1        54   5.622857    303.634286     Low Value\n",
       "18282.0             3        98   4.821538    472.510769  Medium Value\n",
       "18283.0            16      1357   1.628752   2210.216103    High Value\n",
       "18287.0             3      1586   1.493571   2368.804286  Medium Value\n",
       "\n",
       "[4372 rows x 5 columns]"
      ]
     },
     "execution_count": 66,
     "metadata": {},
     "output_type": "execute_result"
    }
   ],
   "source": [
    "# Customer segmentation based on purchase frequency and total spending\n",
    "customer_segmentation = df.groupby(\"CustomerID\").agg(\n",
    "    {\n",
    "        \"InvoiceNo\": \"nunique\",  # Count of unique invoices as purchase frequency\n",
    "        \"Quantity\": \"sum\",  # Sum of total quantities\n",
    "        \"UnitPrice\": \"mean\",  # Average unit price\n",
    "    }\n",
    ")\n",
    "\n",
    "# Calculate TotalSales as the product of Quantity and UnitPrice\n",
    "customer_segmentation[\"TotalSales\"] = (\n",
    "    customer_segmentation[\"Quantity\"] * customer_segmentation[\"UnitPrice\"]\n",
    ")\n",
    "\n",
    "# Define segmentation criteria\n",
    "\n",
    "\n",
    "def segment_customers(row):\n",
    "    if row[\"InvoiceNo\"] >= 5 and row[\"TotalSales\"] >= 500:\n",
    "        return \"High Value\"\n",
    "    elif row[\"InvoiceNo\"] >= 3 and row[\"TotalSales\"] >= 200:\n",
    "        return \"Medium Value\"\n",
    "    else:\n",
    "        return \"Low Value\"\n",
    "\n",
    "\n",
    "# Apply segmentation criteria\n",
    "customer_segmentation[\"Segment\"] = customer_segmentation.apply(\n",
    "    segment_customers, axis=1\n",
    ")\n",
    "customer_segmentation\n"
   ]
  },
  {
   "cell_type": "code",
   "execution_count": 67,
   "metadata": {},
   "outputs": [
    {
     "data": {
      "image/png": "[encoded data removed]",
      "text/plain": [
       "<Figure size 1000x600 with 1 Axes>"
      ]
     },
     "metadata": {},
     "output_type": "display_data"
    }
   ],
   "source": [
    "# Visualize the customer segments\n",
    "plt.figure(figsize=(10, 6))\n",
    "sns.scatterplot(\n",
    "    x=\"InvoiceNo\", y=\"TotalSales\", hue=\"Segment\", data=customer_segmentation\n",
    ")\n",
    "plt.xlabel(\"Purchase Frequency\")\n",
    "plt.ylabel(\"Total Spending\")\n",
    "plt.title(\"Customer Segments\")\n",
    "plt.show()"
   ]
  },
  {
   "cell_type": "markdown",
   "metadata": {},
   "source": [
    "It's evident that High-Value customers stand out by making the highest number of purchases and spending the greatest amount of money. Additionally, their purchases include outliers in terms of both Total Spending and Purchase Frequency."
   ]
  },
  {
   "cell_type": "markdown",
   "metadata": {},
   "source": [
    "Time-of-Day Analysis:"
   ]
  },
  {
   "cell_type": "code",
   "execution_count": 70,
   "metadata": {},
   "outputs": [
    {
     "data": {
      "image/png": "[encoded data removed]",
      "text/plain": [
       "<Figure size 1000x600 with 1 Axes>"
      ]
     },
     "metadata": {},
     "output_type": "display_data"
    }
   ],
   "source": [
    "# Extract hour from InvoiceDate\n",
    "df[\"Hour\"] = df[\"InvoiceDate\"].dt.hour\n",
    "\n",
    "# Calculate TotalSales as the product of Quantity and UnitPrice\n",
    "df[\"TotalSales\"] = df[\"Quantity\"] * df[\"UnitPrice\"]\n",
    "\n",
    "# Sales by hour of the day\n",
    "hourly_sales = df.groupby(\"Hour\")[\"TotalSales\"].sum()\n",
    "\n",
    "# Plot hourly sales trends\n",
    "plt.figure(figsize=(10, 6))\n",
    "hourly_sales.plot(marker=\"o\", color=\"brown\")\n",
    "plt.xlabel(\"Hour of the Day\")\n",
    "plt.ylabel(\"Total Sales\")\n",
    "plt.title(\"Hourly Sales Trends\")\n",
    "plt.tight_layout()\n",
    "plt.show()\n"
   ]
  },
  {
   "cell_type": "markdown",
   "metadata": {},
   "source": [
    "So it's clear that, from 10 to 1 PM, the sales are highest. So we can conclude that, most of the people shop during the lunch time. "
   ]
  },
  {
   "cell_type": "markdown",
   "metadata": {},
   "source": [
    "#### RFM Segmentation Analysis"
   ]
  },
  {
   "cell_type": "markdown",
   "metadata": {},
   "source": [
    "RFM (Recency, Frequency, Monetary) helps categorize customers based on their behavior and value to the company. In this code, we calculate the recency of customers' last purchase, their purchase frequency, and their total monetary spending. These values are then combined into an RFM score, which is used to segment customers. <br />\n",
    "**Recency** calculates the number of days between the most recent invoice date and the present date for each customer. <br />\n",
    "**Frequency** calculates the number of unique invoice numbers for each customer, representing their transaction frequency. <br />\n",
    "**Monetary** calculates the sum of total sales for each customer. <br />"
   ]
  },
  {
   "cell_type": "code",
   "execution_count": 74,
   "metadata": {},
   "outputs": [
    {
     "data": {
      "image/png": "[encoded data removed]",
      "text/plain": [
       "<Figure size 1000x600 with 2 Axes>"
      ]
     },
     "metadata": {},
     "output_type": "display_data"
    }
   ],
   "source": [
    "# Calculate the current date and time\n",
    "PRESENT = datetime.datetime.now()\n",
    "\n",
    "# Calculate Recency, Frequency, and Monetary values using groupby\n",
    "recency = (\n",
    "    df.groupby(\"CustomerID\")[\"InvoiceDate\"].max().apply(\n",
    "        lambda x: (PRESENT - x).days)\n",
    ")\n",
    "frequency = df.groupby(\"CustomerID\")[\"InvoiceNo\"].nunique()\n",
    "monetary = df.groupby(\"CustomerID\")[\"TotalSales\"].sum()\n",
    "\n",
    "# Combine RFM values into a DataFrame\n",
    "rfm_data = pd.DataFrame(\n",
    "    {\"Recency\": recency, \"Frequency\": frequency, \"Monetary\": monetary}\n",
    ")\n",
    "\n",
    "# Calculate RFM Score and add it to the DataFrame\n",
    "rfm_data[\"RFM_Score\"] = (\n",
    "    rfm_data[\"Recency\"] + rfm_data[\"Frequency\"] + rfm_data[\"Monetary\"]\n",
    ") / 3\n",
    "\n",
    "# Plot RFM segmentation\n",
    "plt.figure(figsize=(10, 6))\n",
    "scatter = plt.scatter(\n",
    "    rfm_data[\"Recency\"], rfm_data[\"Frequency\"], c=rfm_data[\"Monetary\"], cmap=\"coolwarm\"\n",
    ")\n",
    "plt.xlabel(\"Recency\")\n",
    "plt.ylabel(\"Frequency\")\n",
    "plt.title(\"RFM Segmentation\")\n",
    "plt.colorbar(scatter, label=\"Monetary Value\")\n",
    "plt.tight_layout()\n",
    "\n",
    "plt.show()"
   ]
  },
  {
   "cell_type": "code",
   "execution_count": 79,
   "metadata": {},
   "outputs": [
    {
     "data": {
      "text/html": [
       "<div>\n",
       "<style scoped>\n",
       "    .dataframe tbody tr th:only-of-type {\n",
       "        vertical-align: middle;\n",
       "    }\n",
       "\n",
       "    .dataframe tbody tr th {\n",
       "        vertical-align: top;\n",
       "    }\n",
       "\n",
       "    .dataframe thead th {\n",
       "        text-align: right;\n",
       "    }\n",
       "</style>\n",
       "<table border=\"1\" class=\"dataframe\">\n",
       "  <thead>\n",
       "    <tr style=\"text-align: right;\">\n",
       "      <th></th>\n",
       "      <th>Recency</th>\n",
       "      <th>Frequency</th>\n",
       "      <th>Monetary</th>\n",
       "      <th>RFM_Score</th>\n",
       "      <th>r_quartile</th>\n",
       "    </tr>\n",
       "    <tr>\n",
       "      <th>CustomerID</th>\n",
       "      <th></th>\n",
       "      <th></th>\n",
       "      <th></th>\n",
       "      <th></th>\n",
       "      <th></th>\n",
       "    </tr>\n",
       "  </thead>\n",
       "  <tbody>\n",
       "    <tr>\n",
       "      <th>12346.0</th>\n",
       "      <td>4605</td>\n",
       "      <td>2</td>\n",
       "      <td>0.00</td>\n",
       "      <td>1535.666667</td>\n",
       "      <td>4</td>\n",
       "    </tr>\n",
       "    <tr>\n",
       "      <th>12347.0</th>\n",
       "      <td>4282</td>\n",
       "      <td>7</td>\n",
       "      <td>4310.00</td>\n",
       "      <td>2866.333333</td>\n",
       "      <td>1</td>\n",
       "    </tr>\n",
       "    <tr>\n",
       "      <th>12348.0</th>\n",
       "      <td>4355</td>\n",
       "      <td>4</td>\n",
       "      <td>1797.24</td>\n",
       "      <td>2052.080000</td>\n",
       "      <td>3</td>\n",
       "    </tr>\n",
       "    <tr>\n",
       "      <th>12349.0</th>\n",
       "      <td>4299</td>\n",
       "      <td>1</td>\n",
       "      <td>1757.55</td>\n",
       "      <td>2019.183333</td>\n",
       "      <td>2</td>\n",
       "    </tr>\n",
       "    <tr>\n",
       "      <th>12350.0</th>\n",
       "      <td>4590</td>\n",
       "      <td>1</td>\n",
       "      <td>334.40</td>\n",
       "      <td>1641.800000</td>\n",
       "      <td>4</td>\n",
       "    </tr>\n",
       "  </tbody>\n",
       "</table>\n",
       "</div>"
      ],
      "text/plain": [
       "            Recency  Frequency  Monetary    RFM_Score r_quartile\n",
       "CustomerID                                                      \n",
       "12346.0        4605          2      0.00  1535.666667          4\n",
       "12347.0        4282          7   4310.00  2866.333333          1\n",
       "12348.0        4355          4   1797.24  2052.080000          3\n",
       "12349.0        4299          1   1757.55  2019.183333          2\n",
       "12350.0        4590          1    334.40  1641.800000          4"
      ]
     },
     "execution_count": 79,
     "metadata": {},
     "output_type": "execute_result"
    }
   ],
   "source": [
    "rfm_data.head()"
   ]
  },
  {
   "cell_type": "code",
   "execution_count": 85,
   "metadata": {},
   "outputs": [
    {
     "name": "stdout",
     "output_type": "stream",
     "text": [
      "<class 'pandas.core.frame.DataFrame'>\n",
      "Index: 401604 entries, 0 to 541908\n",
      "Data columns (total 10 columns):\n",
      " #   Column       Non-Null Count   Dtype         \n",
      "---  ------       --------------   -----         \n",
      " 0   InvoiceNo    401604 non-null  object        \n",
      " 1   StockCode    401604 non-null  object        \n",
      " 2   Description  401604 non-null  object        \n",
      " 3   Quantity     401604 non-null  int64         \n",
      " 4   InvoiceDate  401604 non-null  datetime64[ns]\n",
      " 5   UnitPrice    401604 non-null  float64       \n",
      " 6   CustomerID   401604 non-null  float64       \n",
      " 7   Country      401604 non-null  object        \n",
      " 8   Hour         401604 non-null  int32         \n",
      " 9   TotalSales   401604 non-null  float64       \n",
      "dtypes: datetime64[ns](1), float64(3), int32(1), int64(1), object(4)\n",
      "memory usage: 32.2+ MB\n"
     ]
    }
   ],
   "source": [
    "df.info()"
   ]
  },
  {
   "cell_type": "code",
   "execution_count": 97,
   "metadata": {},
   "outputs": [],
   "source": [
    "# Create Total Price column\n",
    "# Calculate TotalSales as the product of Quantity and UnitPrice\n",
    "df[\"TotalPrice\"] = df[\"Quantity\"] * df[\"UnitPrice\"]\n",
    "df[\"InvoiceDate\"].min(), df[\"InvoiceDate\"].max()\n",
    "\n",
    "\n",
    "rfm = uk_data.groupby(\"CustomerID\").agg(\n",
    "    {\n",
    "        \"InvoiceDate\": lambda date: (PRESENT - date.max()).days,\n",
    "        \"InvoiceNo\": lambda num: len(num),\n",
    "        \"TotalPrice\": lambda price: price.sum(),\n",
    "    }\n",
    ")\n",
    "\n",
    "# Change the name of columns\n",
    "rfm.columns = [\"recency\", \"monetary\", \"frequency\"]\n",
    "rfm[\"recency\"] = rfm[\"recency\"].astype(int)"
   ]
  },
  {
   "cell_type": "markdown",
   "metadata": {},
   "source": [
    "### Computing Quantile of RFM values\n",
    "##### Customers with the lowest recency, highest frequency and monetary amounts considered as top customers.\n",
    "\n",
    "##### qcut() is Quantile-based discretization function. qcut bins the data based on sample quantiles. For example, 1000 values for 4 quantiles would produce a categorical object indicating quantile membership for each customer.\n"
   ]
  },
  {
   "cell_type": "code",
   "execution_count": 100,
   "metadata": {},
   "outputs": [],
   "source": [
    "rfm[\"r_quartile\"] = pd.qcut(rfm[\"recency\"], 4, [\"1\", \"2\", \"3\", \"4\"])\n",
    "rfm[\"f_quartile\"] = pd.qcut(rfm[\"frequency\"], 4, [\"4\", \"3\", \"2\", \"1\"])\n",
    "rfm[\"m_quartile\"] = pd.qcut(rfm[\"monetary\"], 4, [\"4\", \"3\", \"2\", \"1\"])"
   ]
  },
  {
   "cell_type": "code",
   "execution_count": 101,
   "metadata": {},
   "outputs": [
    {
     "data": {
      "text/html": [
       "<div>\n",
       "<style scoped>\n",
       "    .dataframe tbody tr th:only-of-type {\n",
       "        vertical-align: middle;\n",
       "    }\n",
       "\n",
       "    .dataframe tbody tr th {\n",
       "        vertical-align: top;\n",
       "    }\n",
       "\n",
       "    .dataframe thead th {\n",
       "        text-align: right;\n",
       "    }\n",
       "</style>\n",
       "<table border=\"1\" class=\"dataframe\">\n",
       "  <thead>\n",
       "    <tr style=\"text-align: right;\">\n",
       "      <th></th>\n",
       "      <th>recency</th>\n",
       "      <th>monetary</th>\n",
       "      <th>frequency</th>\n",
       "      <th>r_quartile</th>\n",
       "      <th>f_quartile</th>\n",
       "      <th>m_quartile</th>\n",
       "    </tr>\n",
       "    <tr>\n",
       "      <th>CustomerID</th>\n",
       "      <th></th>\n",
       "      <th></th>\n",
       "      <th></th>\n",
       "      <th></th>\n",
       "      <th></th>\n",
       "      <th></th>\n",
       "    </tr>\n",
       "  </thead>\n",
       "  <tbody>\n",
       "    <tr>\n",
       "      <th>12346.0</th>\n",
       "      <td>4605</td>\n",
       "      <td>2</td>\n",
       "      <td>0.00</td>\n",
       "      <td>4</td>\n",
       "      <td>4</td>\n",
       "      <td>4</td>\n",
       "    </tr>\n",
       "    <tr>\n",
       "      <th>12747.0</th>\n",
       "      <td>4282</td>\n",
       "      <td>103</td>\n",
       "      <td>4196.01</td>\n",
       "      <td>1</td>\n",
       "      <td>1</td>\n",
       "      <td>1</td>\n",
       "    </tr>\n",
       "    <tr>\n",
       "      <th>12748.0</th>\n",
       "      <td>4280</td>\n",
       "      <td>4459</td>\n",
       "      <td>28405.56</td>\n",
       "      <td>1</td>\n",
       "      <td>1</td>\n",
       "      <td>1</td>\n",
       "    </tr>\n",
       "    <tr>\n",
       "      <th>12749.0</th>\n",
       "      <td>4284</td>\n",
       "      <td>231</td>\n",
       "      <td>3868.20</td>\n",
       "      <td>1</td>\n",
       "      <td>1</td>\n",
       "      <td>1</td>\n",
       "    </tr>\n",
       "    <tr>\n",
       "      <th>12820.0</th>\n",
       "      <td>4283</td>\n",
       "      <td>59</td>\n",
       "      <td>942.34</td>\n",
       "      <td>1</td>\n",
       "      <td>2</td>\n",
       "      <td>2</td>\n",
       "    </tr>\n",
       "  </tbody>\n",
       "</table>\n",
       "</div>"
      ],
      "text/plain": [
       "            recency  monetary  frequency r_quartile f_quartile m_quartile\n",
       "CustomerID                                                               \n",
       "12346.0        4605         2       0.00          4          4          4\n",
       "12747.0        4282       103    4196.01          1          1          1\n",
       "12748.0        4280      4459   28405.56          1          1          1\n",
       "12749.0        4284       231    3868.20          1          1          1\n",
       "12820.0        4283        59     942.34          1          2          2"
      ]
     },
     "execution_count": 101,
     "metadata": {},
     "output_type": "execute_result"
    }
   ],
   "source": [
    "rfm.head()"
   ]
  },
  {
   "cell_type": "markdown",
   "metadata": {},
   "source": [
    "### RFM Result Interpretation"
   ]
  },
  {
   "cell_type": "markdown",
   "metadata": {},
   "source": [
    "Combine all three quartiles(r_quartile,f_quartile,m_quartile) in a single column, this rank will help you to segment the customers well group."
   ]
  },
  {
   "cell_type": "code",
   "execution_count": 102,
   "metadata": {},
   "outputs": [
    {
     "data": {
      "text/html": [
       "<div>\n",
       "<style scoped>\n",
       "    .dataframe tbody tr th:only-of-type {\n",
       "        vertical-align: middle;\n",
       "    }\n",
       "\n",
       "    .dataframe tbody tr th {\n",
       "        vertical-align: top;\n",
       "    }\n",
       "\n",
       "    .dataframe thead th {\n",
       "        text-align: right;\n",
       "    }\n",
       "</style>\n",
       "<table border=\"1\" class=\"dataframe\">\n",
       "  <thead>\n",
       "    <tr style=\"text-align: right;\">\n",
       "      <th></th>\n",
       "      <th>recency</th>\n",
       "      <th>monetary</th>\n",
       "      <th>frequency</th>\n",
       "      <th>r_quartile</th>\n",
       "      <th>f_quartile</th>\n",
       "      <th>m_quartile</th>\n",
       "      <th>RFM_Score</th>\n",
       "    </tr>\n",
       "    <tr>\n",
       "      <th>CustomerID</th>\n",
       "      <th></th>\n",
       "      <th></th>\n",
       "      <th></th>\n",
       "      <th></th>\n",
       "      <th></th>\n",
       "      <th></th>\n",
       "      <th></th>\n",
       "    </tr>\n",
       "  </thead>\n",
       "  <tbody>\n",
       "    <tr>\n",
       "      <th>12346.0</th>\n",
       "      <td>4605</td>\n",
       "      <td>2</td>\n",
       "      <td>0.00</td>\n",
       "      <td>4</td>\n",
       "      <td>4</td>\n",
       "      <td>4</td>\n",
       "      <td>444</td>\n",
       "    </tr>\n",
       "    <tr>\n",
       "      <th>12747.0</th>\n",
       "      <td>4282</td>\n",
       "      <td>103</td>\n",
       "      <td>4196.01</td>\n",
       "      <td>1</td>\n",
       "      <td>1</td>\n",
       "      <td>1</td>\n",
       "      <td>111</td>\n",
       "    </tr>\n",
       "    <tr>\n",
       "      <th>12748.0</th>\n",
       "      <td>4280</td>\n",
       "      <td>4459</td>\n",
       "      <td>28405.56</td>\n",
       "      <td>1</td>\n",
       "      <td>1</td>\n",
       "      <td>1</td>\n",
       "      <td>111</td>\n",
       "    </tr>\n",
       "    <tr>\n",
       "      <th>12749.0</th>\n",
       "      <td>4284</td>\n",
       "      <td>231</td>\n",
       "      <td>3868.20</td>\n",
       "      <td>1</td>\n",
       "      <td>1</td>\n",
       "      <td>1</td>\n",
       "      <td>111</td>\n",
       "    </tr>\n",
       "    <tr>\n",
       "      <th>12820.0</th>\n",
       "      <td>4283</td>\n",
       "      <td>59</td>\n",
       "      <td>942.34</td>\n",
       "      <td>1</td>\n",
       "      <td>2</td>\n",
       "      <td>2</td>\n",
       "      <td>122</td>\n",
       "    </tr>\n",
       "  </tbody>\n",
       "</table>\n",
       "</div>"
      ],
      "text/plain": [
       "            recency  monetary  frequency r_quartile f_quartile m_quartile  \\\n",
       "CustomerID                                                                  \n",
       "12346.0        4605         2       0.00          4          4          4   \n",
       "12747.0        4282       103    4196.01          1          1          1   \n",
       "12748.0        4280      4459   28405.56          1          1          1   \n",
       "12749.0        4284       231    3868.20          1          1          1   \n",
       "12820.0        4283        59     942.34          1          2          2   \n",
       "\n",
       "           RFM_Score  \n",
       "CustomerID            \n",
       "12346.0          444  \n",
       "12747.0          111  \n",
       "12748.0          111  \n",
       "12749.0          111  \n",
       "12820.0          122  "
      ]
     },
     "execution_count": 102,
     "metadata": {},
     "output_type": "execute_result"
    }
   ],
   "source": [
    "rfm[\"RFM_Score\"] = (\n",
    "    rfm.r_quartile.astype(str) + rfm.f_quartile.astype(str) + rfm.m_quartile.astype(str)\n",
    ")\n",
    "rfm.head()"
   ]
  },
  {
   "cell_type": "markdown",
   "metadata": {},
   "source": [
    " #### Filter out Top/Best cusotmers always showing 111. "
   ]
  },
  {
   "cell_type": "code",
   "execution_count": 104,
   "metadata": {},
   "outputs": [
    {
     "data": {
      "text/html": [
       "<div>\n",
       "<style scoped>\n",
       "    .dataframe tbody tr th:only-of-type {\n",
       "        vertical-align: middle;\n",
       "    }\n",
       "\n",
       "    .dataframe tbody tr th {\n",
       "        vertical-align: top;\n",
       "    }\n",
       "\n",
       "    .dataframe thead th {\n",
       "        text-align: right;\n",
       "    }\n",
       "</style>\n",
       "<table border=\"1\" class=\"dataframe\">\n",
       "  <thead>\n",
       "    <tr style=\"text-align: right;\">\n",
       "      <th></th>\n",
       "      <th>recency</th>\n",
       "      <th>monetary</th>\n",
       "      <th>frequency</th>\n",
       "      <th>r_quartile</th>\n",
       "      <th>f_quartile</th>\n",
       "      <th>m_quartile</th>\n",
       "      <th>RFM_Score</th>\n",
       "    </tr>\n",
       "    <tr>\n",
       "      <th>CustomerID</th>\n",
       "      <th></th>\n",
       "      <th></th>\n",
       "      <th></th>\n",
       "      <th></th>\n",
       "      <th></th>\n",
       "      <th></th>\n",
       "      <th></th>\n",
       "    </tr>\n",
       "  </thead>\n",
       "  <tbody>\n",
       "    <tr>\n",
       "      <th>17841.0</th>\n",
       "      <td>4281</td>\n",
       "      <td>7812</td>\n",
       "      <td>39869.05</td>\n",
       "      <td>1</td>\n",
       "      <td>1</td>\n",
       "      <td>1</td>\n",
       "      <td>111</td>\n",
       "    </tr>\n",
       "    <tr>\n",
       "      <th>14096.0</th>\n",
       "      <td>4284</td>\n",
       "      <td>5128</td>\n",
       "      <td>57120.91</td>\n",
       "      <td>1</td>\n",
       "      <td>1</td>\n",
       "      <td>1</td>\n",
       "      <td>111</td>\n",
       "    </tr>\n",
       "    <tr>\n",
       "      <th>12748.0</th>\n",
       "      <td>4280</td>\n",
       "      <td>4459</td>\n",
       "      <td>28405.56</td>\n",
       "      <td>1</td>\n",
       "      <td>1</td>\n",
       "      <td>1</td>\n",
       "      <td>111</td>\n",
       "    </tr>\n",
       "    <tr>\n",
       "      <th>14606.0</th>\n",
       "      <td>4281</td>\n",
       "      <td>2759</td>\n",
       "      <td>11633.35</td>\n",
       "      <td>1</td>\n",
       "      <td>1</td>\n",
       "      <td>1</td>\n",
       "      <td>111</td>\n",
       "    </tr>\n",
       "    <tr>\n",
       "      <th>15311.0</th>\n",
       "      <td>4280</td>\n",
       "      <td>2478</td>\n",
       "      <td>59284.19</td>\n",
       "      <td>1</td>\n",
       "      <td>1</td>\n",
       "      <td>1</td>\n",
       "      <td>111</td>\n",
       "    </tr>\n",
       "  </tbody>\n",
       "</table>\n",
       "</div>"
      ],
      "text/plain": [
       "            recency  monetary  frequency r_quartile f_quartile m_quartile  \\\n",
       "CustomerID                                                                  \n",
       "17841.0        4281      7812   39869.05          1          1          1   \n",
       "14096.0        4284      5128   57120.91          1          1          1   \n",
       "12748.0        4280      4459   28405.56          1          1          1   \n",
       "14606.0        4281      2759   11633.35          1          1          1   \n",
       "15311.0        4280      2478   59284.19          1          1          1   \n",
       "\n",
       "           RFM_Score  \n",
       "CustomerID            \n",
       "17841.0          111  \n",
       "14096.0          111  \n",
       "12748.0          111  \n",
       "14606.0          111  \n",
       "15311.0          111  "
      ]
     },
     "execution_count": 104,
     "metadata": {},
     "output_type": "execute_result"
    }
   ],
   "source": [
    "rfm[rfm[\"RFM_Score\"] == \"111\"].sort_values(\"monetary\", ascending=False).head()\n"
   ]
  },
  {
   "cell_type": "code",
   "execution_count": null,
   "metadata": {},
   "outputs": [],
   "source": []
  }
 ],
 "metadata": {
  "kernelspec": {
   "display_name": "Python 3",
   "language": "python",
   "name": "python3"
  },
  "language_info": {
   "codemirror_mode": {
    "name": "ipython",
    "version": 3
   },
   "file_extension": ".py",
   "mimetype": "text/x-python",
   "name": "python",
   "nbconvert_exporter": "python",
   "pygments_lexer": "ipython3",
   "version": "3.11.1"
  }
 },
 "nbformat": 4,
 "nbformat_minor": 4
}
